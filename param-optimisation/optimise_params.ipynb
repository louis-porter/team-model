{
 "cells": [
  {
   "cell_type": "code",
   "execution_count": 6,
   "metadata": {},
   "outputs": [],
   "source": [
    "import numpy as np\n",
    "import pandas as pd\n",
    "from skopt import gp_minimize\n",
    "from skopt.space import Real\n",
    "from skopt.utils import use_named_args\n",
    "from skopt.plots import plot_convergence, plot_objective\n",
    "import matplotlib.pyplot as plt\n",
    "import sys\n",
    "import os\n",
    "sys.path.append(os.path.dirname(os.getcwd()))\n",
    "from models.standard_dc import TeamModel\n"
   ]
  },
  {
   "cell_type": "code",
   "execution_count": 7,
   "metadata": {},
   "outputs": [
    {
     "name": "stdout",
     "output_type": "stream",
     "text": [
      "Loaded 10738 shots\n",
      "Created 381 match summaries\n"
     ]
    }
   ],
   "source": [
    "# Load your shot data\n",
    "def load_shot_data():\n",
    "    # Load shot data from CSV files\n",
    "    df = pd.read_csv(r\"C:\\Users\\Owner\\dev\\team-model\\shot_data_prem_2023.csv\")\n",
    "    df_2 = pd.read_csv(r\"C:\\Users\\Owner\\dev\\team-model\\shot_data_prem_2024.csv\")\n",
    "    \n",
    "    # Combine datasets\n",
    "    df = pd.concat([df, df_2])\n",
    "    \n",
    "    # Process dates and seasons\n",
    "    df['match_date'] = pd.to_datetime(df['match_date'])\n",
    "    df['season'] = np.where(df['match_date'] > pd.Timestamp('2024-08-01'), 2024, 2023)\n",
    "    \n",
    "    # Filter data if needed\n",
    "    df = df[df[\"match_date\"] > '2024-02-27']\n",
    "    \n",
    "    # Add a goal column\n",
    "    df['is_goal'] = df['Outcome'].apply(lambda x: 1 if x == 'Goal' else 0)\n",
    "    \n",
    "    return df\n",
    "\n",
    "# Create match summaries from shot data\n",
    "def create_match_summaries(shot_data):\n",
    "    # Split into home and away shots\n",
    "    home_shots = shot_data[shot_data['Team'] == shot_data['home_team']]\n",
    "    away_shots = shot_data[shot_data['Team'] == shot_data['away_team']]\n",
    "    \n",
    "    # Aggregate by match\n",
    "    home_stats = home_shots.groupby(['match_url', 'match_date', 'home_team', 'away_team', 'season'], as_index=False).agg({\n",
    "        'is_goal': 'sum',  # Total goals\n",
    "        'xG': 'sum',       # Total xG\n",
    "        'PSxG': 'sum'      # Total PSxG\n",
    "    })\n",
    "    \n",
    "    away_stats = away_shots.groupby(['match_url', 'match_date', 'home_team', 'away_team', 'season'], as_index=False).agg({\n",
    "        'is_goal': 'sum',  # Total goals\n",
    "        'xG': 'sum',       # Total xG\n",
    "        'PSxG': 'sum'      # Total PSxG\n",
    "    })\n",
    "    \n",
    "    # Rename columns\n",
    "    home_stats = home_stats.rename(columns={\n",
    "        'is_goal': 'home_goals',\n",
    "        'xG': 'home_xg',\n",
    "        'PSxG': 'home_psxg'\n",
    "    })\n",
    "    \n",
    "    away_stats = away_stats.rename(columns={\n",
    "        'is_goal': 'away_goals',\n",
    "        'xG': 'away_xg',\n",
    "        'PSxG': 'away_psxg'\n",
    "    })\n",
    "    \n",
    "    # Merge home and away stats\n",
    "    match_stats = pd.merge(\n",
    "        home_stats, \n",
    "        away_stats, \n",
    "        on=['match_url', 'match_date', 'home_team', 'away_team', 'season'],\n",
    "        how='inner'\n",
    "    )\n",
    "    \n",
    "    return match_stats\n",
    "\n",
    "\n",
    "shot_data = load_shot_data()\n",
    "print(f\"Loaded {len(shot_data)} shots\")\n",
    "    \n",
    "# Create match summaries\n",
    "match_stats = create_match_summaries(shot_data)\n",
    "print(f\"Created {len(match_stats)} match summaries\")\n",
    "    \n",
    "# Convert to list of dictionaries for matches\n",
    "matches = match_stats.to_dict('records')"
   ]
  }
 ],
 "metadata": {
  "kernelspec": {
   "display_name": ".venv",
   "language": "python",
   "name": "python3"
  },
  "language_info": {
   "codemirror_mode": {
    "name": "ipython",
    "version": 3
   },
   "file_extension": ".py",
   "mimetype": "text/x-python",
   "name": "python",
   "nbconvert_exporter": "python",
   "pygments_lexer": "ipython3",
   "version": "3.12.2"
  }
 },
 "nbformat": 4,
 "nbformat_minor": 2
}
